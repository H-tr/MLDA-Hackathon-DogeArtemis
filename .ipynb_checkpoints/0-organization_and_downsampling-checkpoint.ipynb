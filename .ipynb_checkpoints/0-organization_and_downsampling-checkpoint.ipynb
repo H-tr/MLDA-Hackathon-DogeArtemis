{
 "cells": [
  {
   "cell_type": "code",
   "execution_count": 3,
   "id": "57518b0b",
   "metadata": {},
   "outputs": [],
   "source": [
    "import os, glob, shutil\n",
    "import numpy as np\n",
    "import pandas as pd\n",
    "import torch\n",
    "import torchaudio\n",
    "\n",
    "PATH = r\"C:\\Users\\offco\\Documents\\MAIN DRIVE\\Development\\audio-sentiment-analysis\"\n",
    "DATA_PATH = f\"{PATH}\\dataset\"\n",
    "NEW_DATA_PATH = f\"{PATH}\\organized_dataset\""
   ]
  },
  {
   "cell_type": "code",
   "execution_count": 13,
   "id": "abb58054",
   "metadata": {},
   "outputs": [],
   "source": [
    "audio_filepaths = [filename for filename in glob.glob(os.path.join(DATA_PATH, '*.wav'))]\n",
    "audio_filenames = [filepath.split('\\\\')[-1] for filepath in audio_filepaths]\n",
    "\n",
    "emotion_categories = np.unique([filename.split('.')[0].split('_')[-1] for filename in audio_filenames])\n",
    "emotion_filepaths_dict = {emotion: f\"{NEW_DATA_PATH}\\\\{emotion}\" for emotion in emotion_categories if emotion != 'fear'}\n",
    "\n",
    "nofear_audio_filenames = [filename for filename in audio_filenames if filename.split('.')[0].split('_')[-1] != 'fear']\n",
    "nofear_audio_filepaths_dict = {key: [] for key in emotion_categories if key != 'fear'}\n",
    "nofear_audio_filepaths = [f\"{DATA_PATH}\\\\{filename}\" for filename in nofear_audio_filenames]\n",
    "\n",
    "for filepath in nofear_audio_filepaths:\n",
    "    emotion = filepath.split('\\\\')[-1].split('.')[0].split('_')[-1]\n",
    "    nofear_audio_filepaths_dict[emotion].append(filepath)\n",
    "\n",
    "for key in emotion_filepaths_dict:\n",
    "    try:\n",
    "        os.mkdir(emotion_filepaths_dict[key])\n",
    "    except FileExistsError:\n",
    "        continue\n",
    "\n",
    "for key in nofear_audio_filepaths_dict:\n",
    "    paths = nofear_audio_filepaths_dict[key]\n",
    "    for path in paths:\n",
    "        shutil.copy(path, emotion_filepaths_dict[key])"
   ]
  },
  {
   "cell_type": "code",
   "execution_count": 22,
   "id": "af3f5384",
   "metadata": {},
   "outputs": [],
   "source": [
    "from random import randint\n",
    "\n",
    "nofear_emotions = [emotion for emotion in emotion_categories if emotion != 'fear']\n",
    "emotions_dict = {i: emotion for i, emotion in zip(range(len(nofear_emotions)), nofear_emotions)}\n",
    "random_emotion_index = randint(0, len(nofear_emotions)-1)\n",
    "RANDOM_EMOTION_PATH = f\"{NEW_DATA_PATH}\\\\{emotions_dict[random_emotion_index]}\"\n",
    "\n",
    "files = [filename for filename in glob.glob(os.path.join(RANDOM_EMOTION_PATH, '*.wav'))]\n",
    "random_file_index = randint(0, len(files)-1)\n",
    "random_data = files[random_file_index]"
   ]
  },
  {
   "cell_type": "code",
   "execution_count": 23,
   "id": "72b0f68f",
   "metadata": {},
   "outputs": [
    {
     "name": "stdout",
     "output_type": "stream",
     "text": [
      "random_data: C:\\Users\\offco\\Documents\\MAIN DRIVE\\Development\\audio-sentiment-analysis\\organized_dataset\\angry\\OAF_sub_angry.wav\n"
     ]
    }
   ],
   "source": [
    "print(f\"random_data: {random_data}\")"
   ]
  },
  {
   "cell_type": "code",
   "execution_count": null,
   "id": "1cf0a07d",
   "metadata": {},
   "outputs": [],
   "source": []
  }
 ],
 "metadata": {
  "kernelspec": {
   "display_name": "Python 3 (ipykernel)",
   "language": "python",
   "name": "python3"
  },
  "language_info": {
   "codemirror_mode": {
    "name": "ipython",
    "version": 3
   },
   "file_extension": ".py",
   "mimetype": "text/x-python",
   "name": "python",
   "nbconvert_exporter": "python",
   "pygments_lexer": "ipython3",
   "version": "3.9.13"
  }
 },
 "nbformat": 4,
 "nbformat_minor": 5
}
