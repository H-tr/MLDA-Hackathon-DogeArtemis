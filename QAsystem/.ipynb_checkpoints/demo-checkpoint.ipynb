{
 "cells": [
  {
   "cell_type": "code",
   "execution_count": 1,
   "metadata": {},
   "outputs": [
    {
     "name": "stderr",
     "output_type": "stream",
     "text": [
      "/home/run/.miniconda3/envs/hackathon/lib/python3.9/site-packages/huggingface_hub/utils/_deprecation.py:97: FutureWarning: Deprecated argument(s) used in 'dataset_info': token. Will not be supported from version '0.12'.\n",
      "  warnings.warn(message, FutureWarning)\n",
      "Using custom data configuration default\n"
     ]
    }
   ],
   "source": [
    "\n",
    "from datasets import load_dataset\n",
    "\n",
    "# load the dataset from huggingface in streaming mode and shuffle it\n",
    "wiki_data = load_dataset(\n",
    "    'vblagoje/wikipedia_snippets_streamed',\n",
    "    split='train',\n",
    "    streaming=True\n",
    ").shuffle(seed=960)\n"
   ]
  },
  {
   "cell_type": "code",
   "execution_count": 2,
   "metadata": {},
   "outputs": [
    {
     "ename": "KeyboardInterrupt",
     "evalue": "",
     "output_type": "error",
     "traceback": [
      "\u001b[0;31m---------------------------------------------------------------------------\u001b[0m",
      "\u001b[0;31mKeyboardInterrupt\u001b[0m                         Traceback (most recent call last)",
      "Cell \u001b[0;32mIn [2], line 1\u001b[0m\n\u001b[0;32m----> 1\u001b[0m \u001b[38;5;28mnext\u001b[39m(\u001b[38;5;28miter\u001b[39m(wiki_data))\n",
      "File \u001b[0;32m~/.miniconda3/envs/hackathon/lib/python3.9/site-packages/datasets/iterable_dataset.py:723\u001b[0m, in \u001b[0;36mIterableDataset.__iter__\u001b[0;34m(self)\u001b[0m\n\u001b[1;32m    722\u001b[0m \u001b[39mdef\u001b[39;00m \u001b[39m__iter__\u001b[39m(\u001b[39mself\u001b[39m):\n\u001b[0;32m--> 723\u001b[0m     \u001b[39mfor\u001b[39;00m key, example \u001b[39min\u001b[39;00m \u001b[39mself\u001b[39m\u001b[39m.\u001b[39m_iter():\n\u001b[1;32m    724\u001b[0m         \u001b[39mif\u001b[39;00m \u001b[39mself\u001b[39m\u001b[39m.\u001b[39mfeatures:\n\u001b[1;32m    725\u001b[0m             \u001b[39m# `IterableDataset` automatically fills missing columns with None.\u001b[39;00m\n\u001b[1;32m    726\u001b[0m             \u001b[39m# This is done with `_apply_feature_types`.\u001b[39;00m\n\u001b[1;32m    727\u001b[0m             \u001b[39myield\u001b[39;00m _apply_feature_types(example, \u001b[39mself\u001b[39m\u001b[39m.\u001b[39mfeatures, token_per_repo_id\u001b[39m=\u001b[39m\u001b[39mself\u001b[39m\u001b[39m.\u001b[39m_token_per_repo_id)\n",
      "File \u001b[0;32m~/.miniconda3/envs/hackathon/lib/python3.9/site-packages/datasets/iterable_dataset.py:713\u001b[0m, in \u001b[0;36mIterableDataset._iter\u001b[0;34m(self)\u001b[0m\n\u001b[1;32m    711\u001b[0m \u001b[39melse\u001b[39;00m:\n\u001b[1;32m    712\u001b[0m     ex_iterable \u001b[39m=\u001b[39m \u001b[39mself\u001b[39m\u001b[39m.\u001b[39m_ex_iterable\n\u001b[0;32m--> 713\u001b[0m \u001b[39myield from\u001b[39;00m ex_iterable\n",
      "File \u001b[0;32m~/.miniconda3/envs/hackathon/lib/python3.9/site-packages/datasets/iterable_dataset.py:535\u001b[0m, in \u001b[0;36mBufferShuffledExamplesIterable.__iter__\u001b[0;34m(self)\u001b[0m\n\u001b[1;32m    533\u001b[0m \u001b[39m# this is the shuffle buffer that we keep in memory\u001b[39;00m\n\u001b[1;32m    534\u001b[0m mem_buffer \u001b[39m=\u001b[39m []\n\u001b[0;32m--> 535\u001b[0m \u001b[39mfor\u001b[39;00m x \u001b[39min\u001b[39;00m \u001b[39mself\u001b[39m\u001b[39m.\u001b[39mex_iterable:\n\u001b[1;32m    536\u001b[0m     \u001b[39mif\u001b[39;00m \u001b[39mlen\u001b[39m(mem_buffer) \u001b[39m==\u001b[39m buffer_size:  \u001b[39m# if the buffer is full, pick and example from it\u001b[39;00m\n\u001b[1;32m    537\u001b[0m         i \u001b[39m=\u001b[39m \u001b[39mnext\u001b[39m(indices_iterator)\n",
      "File \u001b[0;32m~/.miniconda3/envs/hackathon/lib/python3.9/site-packages/datasets/iterable_dataset.py:138\u001b[0m, in \u001b[0;36mShardShuffledExamplesIterable.__iter__\u001b[0;34m(self)\u001b[0m\n\u001b[1;32m    136\u001b[0m rng \u001b[39m=\u001b[39m deepcopy(\u001b[39mself\u001b[39m\u001b[39m.\u001b[39mgenerator)\n\u001b[1;32m    137\u001b[0m kwargs_with_shuffled_shards \u001b[39m=\u001b[39m _shuffle_kwargs(rng, \u001b[39mself\u001b[39m\u001b[39m.\u001b[39mkwargs)\n\u001b[0;32m--> 138\u001b[0m \u001b[39myield from\u001b[39;00m \u001b[39mself\u001b[39m\u001b[39m.\u001b[39mgenerate_examples_fn(\u001b[39m*\u001b[39m\u001b[39m*\u001b[39mkwargs_with_shuffled_shards)\n",
      "File \u001b[0;32m~/.cache/huggingface/modules/datasets_modules/datasets/vblagoje--wikipedia_snippets_streamed/a00bb944d5ea9a9cd07474558ff6f0c16c3ff29564447ff9f28a113dc381fa79/wikipedia_snippets_streamed.py:94\u001b[0m, in \u001b[0;36mWikipediaSnippetsStreamed._generate_examples\u001b[0;34m(self, filepath)\u001b[0m\n\u001b[1;32m     92\u001b[0m logger\u001b[39m.\u001b[39minfo(\u001b[39m\"\u001b[39m\u001b[39mgenerating examples from = \u001b[39m\u001b[39m%s\u001b[39;00m\u001b[39m\"\u001b[39m, filepath)\n\u001b[1;32m     93\u001b[0m passage_counter \u001b[39m=\u001b[39m \u001b[39m0\u001b[39m\n\u001b[0;32m---> 94\u001b[0m \u001b[39mwith\u001b[39;00m \u001b[39mopen\u001b[39;49m(filepath, \u001b[39m\"\u001b[39;49m\u001b[39mrb\u001b[39;49m\u001b[39m\"\u001b[39;49m) \u001b[39mas\u001b[39;00m f:\n\u001b[1;32m     95\u001b[0m     pf \u001b[39m=\u001b[39m pq\u001b[39m.\u001b[39mParquetFile(f)\n\u001b[1;32m     96\u001b[0m     \u001b[39mfor\u001b[39;00m i \u001b[39min\u001b[39;00m \u001b[39mrange\u001b[39m(pf\u001b[39m.\u001b[39mnum_row_groups):\n",
      "File \u001b[0;32m~/.miniconda3/envs/hackathon/lib/python3.9/site-packages/datasets/streaming.py:68\u001b[0m, in \u001b[0;36mextend_module_for_streaming.<locals>.wrap_auth.<locals>.wrapper\u001b[0;34m(*args, **kwargs)\u001b[0m\n\u001b[1;32m     66\u001b[0m \u001b[39m@wraps\u001b[39m(function)\n\u001b[1;32m     67\u001b[0m \u001b[39mdef\u001b[39;00m \u001b[39mwrapper\u001b[39m(\u001b[39m*\u001b[39margs, \u001b[39m*\u001b[39m\u001b[39m*\u001b[39mkwargs):\n\u001b[0;32m---> 68\u001b[0m     \u001b[39mreturn\u001b[39;00m function(\u001b[39m*\u001b[39;49margs, use_auth_token\u001b[39m=\u001b[39;49muse_auth_token, \u001b[39m*\u001b[39;49m\u001b[39m*\u001b[39;49mkwargs)\n",
      "File \u001b[0;32m~/.miniconda3/envs/hackathon/lib/python3.9/site-packages/datasets/download/streaming_download_manager.py:453\u001b[0m, in \u001b[0;36mxopen\u001b[0;34m(file, mode, use_auth_token, *args, **kwargs)\u001b[0m\n\u001b[1;32m    451\u001b[0m kwargs \u001b[39m=\u001b[39m {\u001b[39m*\u001b[39m\u001b[39m*\u001b[39mkwargs, \u001b[39m*\u001b[39m\u001b[39m*\u001b[39mnew_kwargs}\n\u001b[1;32m    452\u001b[0m \u001b[39mtry\u001b[39;00m:\n\u001b[0;32m--> 453\u001b[0m     file_obj \u001b[39m=\u001b[39m fsspec\u001b[39m.\u001b[39;49mopen(file, mode\u001b[39m=\u001b[39;49mmode, \u001b[39m*\u001b[39;49margs, \u001b[39m*\u001b[39;49m\u001b[39m*\u001b[39;49mkwargs)\u001b[39m.\u001b[39;49mopen()\n\u001b[1;32m    454\u001b[0m \u001b[39mexcept\u001b[39;00m \u001b[39mValueError\u001b[39;00m \u001b[39mas\u001b[39;00m e:\n\u001b[1;32m    455\u001b[0m     \u001b[39mif\u001b[39;00m \u001b[39mstr\u001b[39m(e) \u001b[39m==\u001b[39m \u001b[39m\"\u001b[39m\u001b[39mCannot seek streaming HTTP file\u001b[39m\u001b[39m\"\u001b[39m:\n",
      "File \u001b[0;32m~/.miniconda3/envs/hackathon/lib/python3.9/site-packages/fsspec/core.py:135\u001b[0m, in \u001b[0;36mOpenFile.open\u001b[0;34m(self)\u001b[0m\n\u001b[1;32m    128\u001b[0m \u001b[39mdef\u001b[39;00m \u001b[39mopen\u001b[39m(\u001b[39mself\u001b[39m):\n\u001b[1;32m    129\u001b[0m     \u001b[39m\"\"\"Materialise this as a real open file without context\u001b[39;00m\n\u001b[1;32m    130\u001b[0m \n\u001b[1;32m    131\u001b[0m \u001b[39m    The OpenFile object should be explicitly closed to avoid enclosed file\u001b[39;00m\n\u001b[1;32m    132\u001b[0m \u001b[39m    instances persisting. You must, therefore, keep a reference to the OpenFile\u001b[39;00m\n\u001b[1;32m    133\u001b[0m \u001b[39m    during the life of the file-like it generates.\u001b[39;00m\n\u001b[1;32m    134\u001b[0m \u001b[39m    \"\"\"\u001b[39;00m\n\u001b[0;32m--> 135\u001b[0m     \u001b[39mreturn\u001b[39;00m \u001b[39mself\u001b[39;49m\u001b[39m.\u001b[39;49m\u001b[39m__enter__\u001b[39;49m()\n",
      "File \u001b[0;32m~/.miniconda3/envs/hackathon/lib/python3.9/site-packages/fsspec/core.py:103\u001b[0m, in \u001b[0;36mOpenFile.__enter__\u001b[0;34m(self)\u001b[0m\n\u001b[1;32m    100\u001b[0m \u001b[39mdef\u001b[39;00m \u001b[39m__enter__\u001b[39m(\u001b[39mself\u001b[39m):\n\u001b[1;32m    101\u001b[0m     mode \u001b[39m=\u001b[39m \u001b[39mself\u001b[39m\u001b[39m.\u001b[39mmode\u001b[39m.\u001b[39mreplace(\u001b[39m\"\u001b[39m\u001b[39mt\u001b[39m\u001b[39m\"\u001b[39m, \u001b[39m\"\u001b[39m\u001b[39m\"\u001b[39m)\u001b[39m.\u001b[39mreplace(\u001b[39m\"\u001b[39m\u001b[39mb\u001b[39m\u001b[39m\"\u001b[39m, \u001b[39m\"\u001b[39m\u001b[39m\"\u001b[39m) \u001b[39m+\u001b[39m \u001b[39m\"\u001b[39m\u001b[39mb\u001b[39m\u001b[39m\"\u001b[39m\n\u001b[0;32m--> 103\u001b[0m     f \u001b[39m=\u001b[39m \u001b[39mself\u001b[39;49m\u001b[39m.\u001b[39;49mfs\u001b[39m.\u001b[39;49mopen(\u001b[39mself\u001b[39;49m\u001b[39m.\u001b[39;49mpath, mode\u001b[39m=\u001b[39;49mmode)\n\u001b[1;32m    105\u001b[0m     \u001b[39mself\u001b[39m\u001b[39m.\u001b[39mfobjects \u001b[39m=\u001b[39m [f]\n\u001b[1;32m    107\u001b[0m     \u001b[39mif\u001b[39;00m \u001b[39mself\u001b[39m\u001b[39m.\u001b[39mcompression \u001b[39mis\u001b[39;00m \u001b[39mnot\u001b[39;00m \u001b[39mNone\u001b[39;00m:\n",
      "File \u001b[0;32m~/.miniconda3/envs/hackathon/lib/python3.9/site-packages/fsspec/spec.py:1034\u001b[0m, in \u001b[0;36mAbstractFileSystem.open\u001b[0;34m(self, path, mode, block_size, cache_options, compression, **kwargs)\u001b[0m\n\u001b[1;32m   1032\u001b[0m \u001b[39melse\u001b[39;00m:\n\u001b[1;32m   1033\u001b[0m     ac \u001b[39m=\u001b[39m kwargs\u001b[39m.\u001b[39mpop(\u001b[39m\"\u001b[39m\u001b[39mautocommit\u001b[39m\u001b[39m\"\u001b[39m, \u001b[39mnot\u001b[39;00m \u001b[39mself\u001b[39m\u001b[39m.\u001b[39m_intrans)\n\u001b[0;32m-> 1034\u001b[0m     f \u001b[39m=\u001b[39m \u001b[39mself\u001b[39;49m\u001b[39m.\u001b[39;49m_open(\n\u001b[1;32m   1035\u001b[0m         path,\n\u001b[1;32m   1036\u001b[0m         mode\u001b[39m=\u001b[39;49mmode,\n\u001b[1;32m   1037\u001b[0m         block_size\u001b[39m=\u001b[39;49mblock_size,\n\u001b[1;32m   1038\u001b[0m         autocommit\u001b[39m=\u001b[39;49mac,\n\u001b[1;32m   1039\u001b[0m         cache_options\u001b[39m=\u001b[39;49mcache_options,\n\u001b[1;32m   1040\u001b[0m         \u001b[39m*\u001b[39;49m\u001b[39m*\u001b[39;49mkwargs,\n\u001b[1;32m   1041\u001b[0m     )\n\u001b[1;32m   1042\u001b[0m     \u001b[39mif\u001b[39;00m compression \u001b[39mis\u001b[39;00m \u001b[39mnot\u001b[39;00m \u001b[39mNone\u001b[39;00m:\n\u001b[1;32m   1043\u001b[0m         \u001b[39mfrom\u001b[39;00m \u001b[39mfsspec\u001b[39;00m\u001b[39m.\u001b[39;00m\u001b[39mcompression\u001b[39;00m \u001b[39mimport\u001b[39;00m compr\n",
      "File \u001b[0;32m~/.miniconda3/envs/hackathon/lib/python3.9/site-packages/fsspec/implementations/http.py:340\u001b[0m, in \u001b[0;36mHTTPFileSystem._open\u001b[0;34m(self, path, mode, block_size, autocommit, cache_type, cache_options, size, **kwargs)\u001b[0m\n\u001b[1;32m    338\u001b[0m kw[\u001b[39m\"\u001b[39m\u001b[39masynchronous\u001b[39m\u001b[39m\"\u001b[39m] \u001b[39m=\u001b[39m \u001b[39mself\u001b[39m\u001b[39m.\u001b[39masynchronous\n\u001b[1;32m    339\u001b[0m kw\u001b[39m.\u001b[39mupdate(kwargs)\n\u001b[0;32m--> 340\u001b[0m size \u001b[39m=\u001b[39m size \u001b[39mor\u001b[39;00m \u001b[39mself\u001b[39;49m\u001b[39m.\u001b[39;49minfo(path, \u001b[39m*\u001b[39;49m\u001b[39m*\u001b[39;49mkwargs)[\u001b[39m\"\u001b[39m\u001b[39msize\u001b[39m\u001b[39m\"\u001b[39m]\n\u001b[1;32m    341\u001b[0m session \u001b[39m=\u001b[39m sync(\u001b[39mself\u001b[39m\u001b[39m.\u001b[39mloop, \u001b[39mself\u001b[39m\u001b[39m.\u001b[39mset_session)\n\u001b[1;32m    342\u001b[0m \u001b[39mif\u001b[39;00m block_size \u001b[39mand\u001b[39;00m size:\n",
      "File \u001b[0;32m~/.miniconda3/envs/hackathon/lib/python3.9/site-packages/fsspec/asyn.py:111\u001b[0m, in \u001b[0;36msync_wrapper.<locals>.wrapper\u001b[0;34m(*args, **kwargs)\u001b[0m\n\u001b[1;32m    108\u001b[0m \u001b[39m@functools\u001b[39m\u001b[39m.\u001b[39mwraps(func)\n\u001b[1;32m    109\u001b[0m \u001b[39mdef\u001b[39;00m \u001b[39mwrapper\u001b[39m(\u001b[39m*\u001b[39margs, \u001b[39m*\u001b[39m\u001b[39m*\u001b[39mkwargs):\n\u001b[1;32m    110\u001b[0m     \u001b[39mself\u001b[39m \u001b[39m=\u001b[39m obj \u001b[39mor\u001b[39;00m args[\u001b[39m0\u001b[39m]\n\u001b[0;32m--> 111\u001b[0m     \u001b[39mreturn\u001b[39;00m sync(\u001b[39mself\u001b[39;49m\u001b[39m.\u001b[39;49mloop, func, \u001b[39m*\u001b[39;49margs, \u001b[39m*\u001b[39;49m\u001b[39m*\u001b[39;49mkwargs)\n",
      "File \u001b[0;32m~/.miniconda3/envs/hackathon/lib/python3.9/site-packages/fsspec/asyn.py:84\u001b[0m, in \u001b[0;36msync\u001b[0;34m(loop, func, timeout, *args, **kwargs)\u001b[0m\n\u001b[1;32m     81\u001b[0m asyncio\u001b[39m.\u001b[39mrun_coroutine_threadsafe(_runner(event, coro, result, timeout), loop)\n\u001b[1;32m     82\u001b[0m \u001b[39mwhile\u001b[39;00m \u001b[39mTrue\u001b[39;00m:\n\u001b[1;32m     83\u001b[0m     \u001b[39m# this loops allows thread to get interrupted\u001b[39;00m\n\u001b[0;32m---> 84\u001b[0m     \u001b[39mif\u001b[39;00m event\u001b[39m.\u001b[39;49mwait(\u001b[39m1\u001b[39;49m):\n\u001b[1;32m     85\u001b[0m         \u001b[39mbreak\u001b[39;00m\n\u001b[1;32m     86\u001b[0m     \u001b[39mif\u001b[39;00m timeout \u001b[39mis\u001b[39;00m \u001b[39mnot\u001b[39;00m \u001b[39mNone\u001b[39;00m:\n",
      "File \u001b[0;32m~/.miniconda3/envs/hackathon/lib/python3.9/threading.py:581\u001b[0m, in \u001b[0;36mEvent.wait\u001b[0;34m(self, timeout)\u001b[0m\n\u001b[1;32m    579\u001b[0m signaled \u001b[39m=\u001b[39m \u001b[39mself\u001b[39m\u001b[39m.\u001b[39m_flag\n\u001b[1;32m    580\u001b[0m \u001b[39mif\u001b[39;00m \u001b[39mnot\u001b[39;00m signaled:\n\u001b[0;32m--> 581\u001b[0m     signaled \u001b[39m=\u001b[39m \u001b[39mself\u001b[39;49m\u001b[39m.\u001b[39;49m_cond\u001b[39m.\u001b[39;49mwait(timeout)\n\u001b[1;32m    582\u001b[0m \u001b[39mreturn\u001b[39;00m signaled\n",
      "File \u001b[0;32m~/.miniconda3/envs/hackathon/lib/python3.9/threading.py:316\u001b[0m, in \u001b[0;36mCondition.wait\u001b[0;34m(self, timeout)\u001b[0m\n\u001b[1;32m    314\u001b[0m \u001b[39melse\u001b[39;00m:\n\u001b[1;32m    315\u001b[0m     \u001b[39mif\u001b[39;00m timeout \u001b[39m>\u001b[39m \u001b[39m0\u001b[39m:\n\u001b[0;32m--> 316\u001b[0m         gotit \u001b[39m=\u001b[39m waiter\u001b[39m.\u001b[39;49macquire(\u001b[39mTrue\u001b[39;49;00m, timeout)\n\u001b[1;32m    317\u001b[0m     \u001b[39melse\u001b[39;00m:\n\u001b[1;32m    318\u001b[0m         gotit \u001b[39m=\u001b[39m waiter\u001b[39m.\u001b[39macquire(\u001b[39mFalse\u001b[39;00m)\n",
      "\u001b[0;31mKeyboardInterrupt\u001b[0m: "
     ]
    }
   ],
   "source": [
    "next(iter(wiki_data))"
   ]
  },
  {
   "cell_type": "code",
   "execution_count": null,
   "metadata": {},
   "outputs": [],
   "source": [
    "\n",
    "# filter only documents with History as section_title\n",
    "history = wiki_data.filter(\n",
    "    lambda d: d['section_title'].startswith('History')\n",
    ")"
   ]
  },
  {
   "cell_type": "code",
   "execution_count": null,
   "metadata": {},
   "outputs": [
    {
     "data": {
      "application/vnd.jupyter.widget-view+json": {
       "model_id": "f81f18e9d69449d498fba423274c5c31",
       "version_major": 2,
       "version_minor": 0
      },
      "text/plain": [
       "  0%|          | 0/50000 [00:00<?, ?it/s]"
      ]
     },
     "metadata": {},
     "output_type": "display_data"
    },
    {
     "ename": "KeyboardInterrupt",
     "evalue": "",
     "output_type": "error",
     "traceback": [
      "\u001b[0;31m---------------------------------------------------------------------------\u001b[0m",
      "\u001b[0;31mKeyboardInterrupt\u001b[0m                         Traceback (most recent call last)",
      "Cell \u001b[0;32mIn [4], line 8\u001b[0m\n\u001b[1;32m      6\u001b[0m docs \u001b[38;5;241m=\u001b[39m []\n\u001b[1;32m      7\u001b[0m \u001b[38;5;66;03m# iterate through the dataset and apply our filter\u001b[39;00m\n\u001b[0;32m----> 8\u001b[0m \u001b[38;5;28;01mfor\u001b[39;00m d \u001b[38;5;129;01min\u001b[39;00m tqdm(history, total\u001b[38;5;241m=\u001b[39mtotal_doc_count):\n\u001b[1;32m      9\u001b[0m     \u001b[38;5;66;03m# extract the fields we need\u001b[39;00m\n\u001b[1;32m     10\u001b[0m     doc \u001b[38;5;241m=\u001b[39m {\n\u001b[1;32m     11\u001b[0m         \u001b[38;5;124m\"\u001b[39m\u001b[38;5;124marticle_title\u001b[39m\u001b[38;5;124m\"\u001b[39m: d[\u001b[38;5;124m\"\u001b[39m\u001b[38;5;124marticle_title\u001b[39m\u001b[38;5;124m\"\u001b[39m],\n\u001b[1;32m     12\u001b[0m         \u001b[38;5;124m\"\u001b[39m\u001b[38;5;124msection_title\u001b[39m\u001b[38;5;124m\"\u001b[39m: d[\u001b[38;5;124m\"\u001b[39m\u001b[38;5;124msection_title\u001b[39m\u001b[38;5;124m\"\u001b[39m],\n\u001b[1;32m     13\u001b[0m         \u001b[38;5;124m\"\u001b[39m\u001b[38;5;124mpassage_text\u001b[39m\u001b[38;5;124m\"\u001b[39m: d[\u001b[38;5;124m\"\u001b[39m\u001b[38;5;124mpassage_text\u001b[39m\u001b[38;5;124m\"\u001b[39m]\n\u001b[1;32m     14\u001b[0m     }\n\u001b[1;32m     15\u001b[0m     \u001b[38;5;66;03m# add the dict containing fields we need to docs list\u001b[39;00m\n",
      "File \u001b[0;32m~/.miniconda3/envs/hackathon/lib/python3.9/site-packages/tqdm/notebook.py:259\u001b[0m, in \u001b[0;36mtqdm_notebook.__iter__\u001b[0;34m(self)\u001b[0m\n\u001b[1;32m    257\u001b[0m \u001b[39mtry\u001b[39;00m:\n\u001b[1;32m    258\u001b[0m     it \u001b[39m=\u001b[39m \u001b[39msuper\u001b[39m(tqdm_notebook, \u001b[39mself\u001b[39m)\u001b[39m.\u001b[39m\u001b[39m__iter__\u001b[39m()\n\u001b[0;32m--> 259\u001b[0m     \u001b[39mfor\u001b[39;00m obj \u001b[39min\u001b[39;00m it:\n\u001b[1;32m    260\u001b[0m         \u001b[39m# return super(tqdm...) will not catch exception\u001b[39;00m\n\u001b[1;32m    261\u001b[0m         \u001b[39myield\u001b[39;00m obj\n\u001b[1;32m    262\u001b[0m \u001b[39m# NB: except ... [ as ...] breaks IPython async KeyboardInterrupt\u001b[39;00m\n",
      "File \u001b[0;32m~/.miniconda3/envs/hackathon/lib/python3.9/site-packages/tqdm/std.py:1195\u001b[0m, in \u001b[0;36mtqdm.__iter__\u001b[0;34m(self)\u001b[0m\n\u001b[1;32m   1192\u001b[0m time \u001b[39m=\u001b[39m \u001b[39mself\u001b[39m\u001b[39m.\u001b[39m_time\n\u001b[1;32m   1194\u001b[0m \u001b[39mtry\u001b[39;00m:\n\u001b[0;32m-> 1195\u001b[0m     \u001b[39mfor\u001b[39;00m obj \u001b[39min\u001b[39;00m iterable:\n\u001b[1;32m   1196\u001b[0m         \u001b[39myield\u001b[39;00m obj\n\u001b[1;32m   1197\u001b[0m         \u001b[39m# Update and possibly print the progressbar.\u001b[39;00m\n\u001b[1;32m   1198\u001b[0m         \u001b[39m# Note: does not call self.update(1) for speed optimisation.\u001b[39;00m\n",
      "File \u001b[0;32m~/.miniconda3/envs/hackathon/lib/python3.9/site-packages/datasets/iterable_dataset.py:723\u001b[0m, in \u001b[0;36mIterableDataset.__iter__\u001b[0;34m(self)\u001b[0m\n\u001b[1;32m    722\u001b[0m \u001b[39mdef\u001b[39;00m \u001b[39m__iter__\u001b[39m(\u001b[39mself\u001b[39m):\n\u001b[0;32m--> 723\u001b[0m     \u001b[39mfor\u001b[39;00m key, example \u001b[39min\u001b[39;00m \u001b[39mself\u001b[39m\u001b[39m.\u001b[39m_iter():\n\u001b[1;32m    724\u001b[0m         \u001b[39mif\u001b[39;00m \u001b[39mself\u001b[39m\u001b[39m.\u001b[39mfeatures:\n\u001b[1;32m    725\u001b[0m             \u001b[39m# `IterableDataset` automatically fills missing columns with None.\u001b[39;00m\n\u001b[1;32m    726\u001b[0m             \u001b[39m# This is done with `_apply_feature_types`.\u001b[39;00m\n\u001b[1;32m    727\u001b[0m             \u001b[39myield\u001b[39;00m _apply_feature_types(example, \u001b[39mself\u001b[39m\u001b[39m.\u001b[39mfeatures, token_per_repo_id\u001b[39m=\u001b[39m\u001b[39mself\u001b[39m\u001b[39m.\u001b[39m_token_per_repo_id)\n",
      "File \u001b[0;32m~/.miniconda3/envs/hackathon/lib/python3.9/site-packages/datasets/iterable_dataset.py:713\u001b[0m, in \u001b[0;36mIterableDataset._iter\u001b[0;34m(self)\u001b[0m\n\u001b[1;32m    711\u001b[0m \u001b[39melse\u001b[39;00m:\n\u001b[1;32m    712\u001b[0m     ex_iterable \u001b[39m=\u001b[39m \u001b[39mself\u001b[39m\u001b[39m.\u001b[39m_ex_iterable\n\u001b[0;32m--> 713\u001b[0m \u001b[39myield from\u001b[39;00m ex_iterable\n",
      "File \u001b[0;32m~/.miniconda3/envs/hackathon/lib/python3.9/site-packages/datasets/iterable_dataset.py:480\u001b[0m, in \u001b[0;36mFilteredExamplesIterable.__iter__\u001b[0;34m(self)\u001b[0m\n\u001b[1;32m    478\u001b[0m         current_idx \u001b[39m+\u001b[39m\u001b[39m=\u001b[39m batch_idx \u001b[39m+\u001b[39m \u001b[39m1\u001b[39m\n\u001b[1;32m    479\u001b[0m \u001b[39melse\u001b[39;00m:\n\u001b[0;32m--> 480\u001b[0m     \u001b[39mfor\u001b[39;00m key, example \u001b[39min\u001b[39;00m iterator:\n\u001b[1;32m    481\u001b[0m         \u001b[39m# If not batched, we can apply the filtering function direcly\u001b[39;00m\n\u001b[1;32m    482\u001b[0m         inputs \u001b[39m=\u001b[39m \u001b[39mdict\u001b[39m(example)\n\u001b[1;32m    483\u001b[0m         function_args \u001b[39m=\u001b[39m [inputs] \u001b[39mif\u001b[39;00m \u001b[39mself\u001b[39m\u001b[39m.\u001b[39minput_columns \u001b[39mis\u001b[39;00m \u001b[39mNone\u001b[39;00m \u001b[39melse\u001b[39;00m [inputs[col] \u001b[39mfor\u001b[39;00m col \u001b[39min\u001b[39;00m \u001b[39mself\u001b[39m\u001b[39m.\u001b[39minput_columns]\n",
      "File \u001b[0;32m~/.miniconda3/envs/hackathon/lib/python3.9/site-packages/datasets/iterable_dataset.py:629\u001b[0m, in \u001b[0;36mTypedExamplesIterable.__iter__\u001b[0;34m(self)\u001b[0m\n\u001b[1;32m    626\u001b[0m \u001b[39mdef\u001b[39;00m \u001b[39m__iter__\u001b[39m(\u001b[39mself\u001b[39m):\n\u001b[1;32m    627\u001b[0m     \u001b[39m# Then for each example, `TypedExamplesIterable` automatically fills missing columns with None.\u001b[39;00m\n\u001b[1;32m    628\u001b[0m     \u001b[39m# This is done with `_apply_feature_types`.\u001b[39;00m\n\u001b[0;32m--> 629\u001b[0m     \u001b[39mfor\u001b[39;00m key, example \u001b[39min\u001b[39;00m \u001b[39mself\u001b[39m\u001b[39m.\u001b[39mex_iterable:\n\u001b[1;32m    630\u001b[0m         \u001b[39myield\u001b[39;00m key, _apply_feature_types(example, \u001b[39mself\u001b[39m\u001b[39m.\u001b[39mfeatures, token_per_repo_id\u001b[39m=\u001b[39m\u001b[39mself\u001b[39m\u001b[39m.\u001b[39mtoken_per_repo_id)\n",
      "File \u001b[0;32m~/.miniconda3/envs/hackathon/lib/python3.9/site-packages/datasets/iterable_dataset.py:535\u001b[0m, in \u001b[0;36mBufferShuffledExamplesIterable.__iter__\u001b[0;34m(self)\u001b[0m\n\u001b[1;32m    533\u001b[0m \u001b[39m# this is the shuffle buffer that we keep in memory\u001b[39;00m\n\u001b[1;32m    534\u001b[0m mem_buffer \u001b[39m=\u001b[39m []\n\u001b[0;32m--> 535\u001b[0m \u001b[39mfor\u001b[39;00m x \u001b[39min\u001b[39;00m \u001b[39mself\u001b[39m\u001b[39m.\u001b[39mex_iterable:\n\u001b[1;32m    536\u001b[0m     \u001b[39mif\u001b[39;00m \u001b[39mlen\u001b[39m(mem_buffer) \u001b[39m==\u001b[39m buffer_size:  \u001b[39m# if the buffer is full, pick and example from it\u001b[39;00m\n\u001b[1;32m    537\u001b[0m         i \u001b[39m=\u001b[39m \u001b[39mnext\u001b[39m(indices_iterator)\n",
      "File \u001b[0;32m~/.miniconda3/envs/hackathon/lib/python3.9/site-packages/datasets/iterable_dataset.py:138\u001b[0m, in \u001b[0;36mShardShuffledExamplesIterable.__iter__\u001b[0;34m(self)\u001b[0m\n\u001b[1;32m    136\u001b[0m rng \u001b[39m=\u001b[39m deepcopy(\u001b[39mself\u001b[39m\u001b[39m.\u001b[39mgenerator)\n\u001b[1;32m    137\u001b[0m kwargs_with_shuffled_shards \u001b[39m=\u001b[39m _shuffle_kwargs(rng, \u001b[39mself\u001b[39m\u001b[39m.\u001b[39mkwargs)\n\u001b[0;32m--> 138\u001b[0m \u001b[39myield from\u001b[39;00m \u001b[39mself\u001b[39m\u001b[39m.\u001b[39mgenerate_examples_fn(\u001b[39m*\u001b[39m\u001b[39m*\u001b[39mkwargs_with_shuffled_shards)\n",
      "File \u001b[0;32m~/.cache/huggingface/modules/datasets_modules/datasets/vblagoje--wikipedia_snippets_streamed/a00bb944d5ea9a9cd07474558ff6f0c16c3ff29564447ff9f28a113dc381fa79/wikipedia_snippets_streamed.py:94\u001b[0m, in \u001b[0;36mWikipediaSnippetsStreamed._generate_examples\u001b[0;34m(self, filepath)\u001b[0m\n\u001b[1;32m     92\u001b[0m logger\u001b[39m.\u001b[39minfo(\u001b[39m\"\u001b[39m\u001b[39mgenerating examples from = \u001b[39m\u001b[39m%s\u001b[39;00m\u001b[39m\"\u001b[39m, filepath)\n\u001b[1;32m     93\u001b[0m passage_counter \u001b[39m=\u001b[39m \u001b[39m0\u001b[39m\n\u001b[0;32m---> 94\u001b[0m \u001b[39mwith\u001b[39;00m \u001b[39mopen\u001b[39;49m(filepath, \u001b[39m\"\u001b[39;49m\u001b[39mrb\u001b[39;49m\u001b[39m\"\u001b[39;49m) \u001b[39mas\u001b[39;00m f:\n\u001b[1;32m     95\u001b[0m     pf \u001b[39m=\u001b[39m pq\u001b[39m.\u001b[39mParquetFile(f)\n\u001b[1;32m     96\u001b[0m     \u001b[39mfor\u001b[39;00m i \u001b[39min\u001b[39;00m \u001b[39mrange\u001b[39m(pf\u001b[39m.\u001b[39mnum_row_groups):\n",
      "File \u001b[0;32m~/.miniconda3/envs/hackathon/lib/python3.9/site-packages/datasets/streaming.py:68\u001b[0m, in \u001b[0;36mextend_module_for_streaming.<locals>.wrap_auth.<locals>.wrapper\u001b[0;34m(*args, **kwargs)\u001b[0m\n\u001b[1;32m     66\u001b[0m \u001b[39m@wraps\u001b[39m(function)\n\u001b[1;32m     67\u001b[0m \u001b[39mdef\u001b[39;00m \u001b[39mwrapper\u001b[39m(\u001b[39m*\u001b[39margs, \u001b[39m*\u001b[39m\u001b[39m*\u001b[39mkwargs):\n\u001b[0;32m---> 68\u001b[0m     \u001b[39mreturn\u001b[39;00m function(\u001b[39m*\u001b[39;49margs, use_auth_token\u001b[39m=\u001b[39;49muse_auth_token, \u001b[39m*\u001b[39;49m\u001b[39m*\u001b[39;49mkwargs)\n",
      "File \u001b[0;32m~/.miniconda3/envs/hackathon/lib/python3.9/site-packages/datasets/download/streaming_download_manager.py:453\u001b[0m, in \u001b[0;36mxopen\u001b[0;34m(file, mode, use_auth_token, *args, **kwargs)\u001b[0m\n\u001b[1;32m    451\u001b[0m kwargs \u001b[39m=\u001b[39m {\u001b[39m*\u001b[39m\u001b[39m*\u001b[39mkwargs, \u001b[39m*\u001b[39m\u001b[39m*\u001b[39mnew_kwargs}\n\u001b[1;32m    452\u001b[0m \u001b[39mtry\u001b[39;00m:\n\u001b[0;32m--> 453\u001b[0m     file_obj \u001b[39m=\u001b[39m fsspec\u001b[39m.\u001b[39;49mopen(file, mode\u001b[39m=\u001b[39;49mmode, \u001b[39m*\u001b[39;49margs, \u001b[39m*\u001b[39;49m\u001b[39m*\u001b[39;49mkwargs)\u001b[39m.\u001b[39;49mopen()\n\u001b[1;32m    454\u001b[0m \u001b[39mexcept\u001b[39;00m \u001b[39mValueError\u001b[39;00m \u001b[39mas\u001b[39;00m e:\n\u001b[1;32m    455\u001b[0m     \u001b[39mif\u001b[39;00m \u001b[39mstr\u001b[39m(e) \u001b[39m==\u001b[39m \u001b[39m\"\u001b[39m\u001b[39mCannot seek streaming HTTP file\u001b[39m\u001b[39m\"\u001b[39m:\n",
      "File \u001b[0;32m~/.miniconda3/envs/hackathon/lib/python3.9/site-packages/fsspec/core.py:135\u001b[0m, in \u001b[0;36mOpenFile.open\u001b[0;34m(self)\u001b[0m\n\u001b[1;32m    128\u001b[0m \u001b[39mdef\u001b[39;00m \u001b[39mopen\u001b[39m(\u001b[39mself\u001b[39m):\n\u001b[1;32m    129\u001b[0m     \u001b[39m\"\"\"Materialise this as a real open file without context\u001b[39;00m\n\u001b[1;32m    130\u001b[0m \n\u001b[1;32m    131\u001b[0m \u001b[39m    The OpenFile object should be explicitly closed to avoid enclosed file\u001b[39;00m\n\u001b[1;32m    132\u001b[0m \u001b[39m    instances persisting. You must, therefore, keep a reference to the OpenFile\u001b[39;00m\n\u001b[1;32m    133\u001b[0m \u001b[39m    during the life of the file-like it generates.\u001b[39;00m\n\u001b[1;32m    134\u001b[0m \u001b[39m    \"\"\"\u001b[39;00m\n\u001b[0;32m--> 135\u001b[0m     \u001b[39mreturn\u001b[39;00m \u001b[39mself\u001b[39;49m\u001b[39m.\u001b[39;49m\u001b[39m__enter__\u001b[39;49m()\n",
      "File \u001b[0;32m~/.miniconda3/envs/hackathon/lib/python3.9/site-packages/fsspec/core.py:103\u001b[0m, in \u001b[0;36mOpenFile.__enter__\u001b[0;34m(self)\u001b[0m\n\u001b[1;32m    100\u001b[0m \u001b[39mdef\u001b[39;00m \u001b[39m__enter__\u001b[39m(\u001b[39mself\u001b[39m):\n\u001b[1;32m    101\u001b[0m     mode \u001b[39m=\u001b[39m \u001b[39mself\u001b[39m\u001b[39m.\u001b[39mmode\u001b[39m.\u001b[39mreplace(\u001b[39m\"\u001b[39m\u001b[39mt\u001b[39m\u001b[39m\"\u001b[39m, \u001b[39m\"\u001b[39m\u001b[39m\"\u001b[39m)\u001b[39m.\u001b[39mreplace(\u001b[39m\"\u001b[39m\u001b[39mb\u001b[39m\u001b[39m\"\u001b[39m, \u001b[39m\"\u001b[39m\u001b[39m\"\u001b[39m) \u001b[39m+\u001b[39m \u001b[39m\"\u001b[39m\u001b[39mb\u001b[39m\u001b[39m\"\u001b[39m\n\u001b[0;32m--> 103\u001b[0m     f \u001b[39m=\u001b[39m \u001b[39mself\u001b[39;49m\u001b[39m.\u001b[39;49mfs\u001b[39m.\u001b[39;49mopen(\u001b[39mself\u001b[39;49m\u001b[39m.\u001b[39;49mpath, mode\u001b[39m=\u001b[39;49mmode)\n\u001b[1;32m    105\u001b[0m     \u001b[39mself\u001b[39m\u001b[39m.\u001b[39mfobjects \u001b[39m=\u001b[39m [f]\n\u001b[1;32m    107\u001b[0m     \u001b[39mif\u001b[39;00m \u001b[39mself\u001b[39m\u001b[39m.\u001b[39mcompression \u001b[39mis\u001b[39;00m \u001b[39mnot\u001b[39;00m \u001b[39mNone\u001b[39;00m:\n",
      "File \u001b[0;32m~/.miniconda3/envs/hackathon/lib/python3.9/site-packages/fsspec/spec.py:1034\u001b[0m, in \u001b[0;36mAbstractFileSystem.open\u001b[0;34m(self, path, mode, block_size, cache_options, compression, **kwargs)\u001b[0m\n\u001b[1;32m   1032\u001b[0m \u001b[39melse\u001b[39;00m:\n\u001b[1;32m   1033\u001b[0m     ac \u001b[39m=\u001b[39m kwargs\u001b[39m.\u001b[39mpop(\u001b[39m\"\u001b[39m\u001b[39mautocommit\u001b[39m\u001b[39m\"\u001b[39m, \u001b[39mnot\u001b[39;00m \u001b[39mself\u001b[39m\u001b[39m.\u001b[39m_intrans)\n\u001b[0;32m-> 1034\u001b[0m     f \u001b[39m=\u001b[39m \u001b[39mself\u001b[39;49m\u001b[39m.\u001b[39;49m_open(\n\u001b[1;32m   1035\u001b[0m         path,\n\u001b[1;32m   1036\u001b[0m         mode\u001b[39m=\u001b[39;49mmode,\n\u001b[1;32m   1037\u001b[0m         block_size\u001b[39m=\u001b[39;49mblock_size,\n\u001b[1;32m   1038\u001b[0m         autocommit\u001b[39m=\u001b[39;49mac,\n\u001b[1;32m   1039\u001b[0m         cache_options\u001b[39m=\u001b[39;49mcache_options,\n\u001b[1;32m   1040\u001b[0m         \u001b[39m*\u001b[39;49m\u001b[39m*\u001b[39;49mkwargs,\n\u001b[1;32m   1041\u001b[0m     )\n\u001b[1;32m   1042\u001b[0m     \u001b[39mif\u001b[39;00m compression \u001b[39mis\u001b[39;00m \u001b[39mnot\u001b[39;00m \u001b[39mNone\u001b[39;00m:\n\u001b[1;32m   1043\u001b[0m         \u001b[39mfrom\u001b[39;00m \u001b[39mfsspec\u001b[39;00m\u001b[39m.\u001b[39;00m\u001b[39mcompression\u001b[39;00m \u001b[39mimport\u001b[39;00m compr\n",
      "File \u001b[0;32m~/.miniconda3/envs/hackathon/lib/python3.9/site-packages/fsspec/implementations/http.py:340\u001b[0m, in \u001b[0;36mHTTPFileSystem._open\u001b[0;34m(self, path, mode, block_size, autocommit, cache_type, cache_options, size, **kwargs)\u001b[0m\n\u001b[1;32m    338\u001b[0m kw[\u001b[39m\"\u001b[39m\u001b[39masynchronous\u001b[39m\u001b[39m\"\u001b[39m] \u001b[39m=\u001b[39m \u001b[39mself\u001b[39m\u001b[39m.\u001b[39masynchronous\n\u001b[1;32m    339\u001b[0m kw\u001b[39m.\u001b[39mupdate(kwargs)\n\u001b[0;32m--> 340\u001b[0m size \u001b[39m=\u001b[39m size \u001b[39mor\u001b[39;00m \u001b[39mself\u001b[39;49m\u001b[39m.\u001b[39;49minfo(path, \u001b[39m*\u001b[39;49m\u001b[39m*\u001b[39;49mkwargs)[\u001b[39m\"\u001b[39m\u001b[39msize\u001b[39m\u001b[39m\"\u001b[39m]\n\u001b[1;32m    341\u001b[0m session \u001b[39m=\u001b[39m sync(\u001b[39mself\u001b[39m\u001b[39m.\u001b[39mloop, \u001b[39mself\u001b[39m\u001b[39m.\u001b[39mset_session)\n\u001b[1;32m    342\u001b[0m \u001b[39mif\u001b[39;00m block_size \u001b[39mand\u001b[39;00m size:\n",
      "File \u001b[0;32m~/.miniconda3/envs/hackathon/lib/python3.9/site-packages/fsspec/asyn.py:111\u001b[0m, in \u001b[0;36msync_wrapper.<locals>.wrapper\u001b[0;34m(*args, **kwargs)\u001b[0m\n\u001b[1;32m    108\u001b[0m \u001b[39m@functools\u001b[39m\u001b[39m.\u001b[39mwraps(func)\n\u001b[1;32m    109\u001b[0m \u001b[39mdef\u001b[39;00m \u001b[39mwrapper\u001b[39m(\u001b[39m*\u001b[39margs, \u001b[39m*\u001b[39m\u001b[39m*\u001b[39mkwargs):\n\u001b[1;32m    110\u001b[0m     \u001b[39mself\u001b[39m \u001b[39m=\u001b[39m obj \u001b[39mor\u001b[39;00m args[\u001b[39m0\u001b[39m]\n\u001b[0;32m--> 111\u001b[0m     \u001b[39mreturn\u001b[39;00m sync(\u001b[39mself\u001b[39;49m\u001b[39m.\u001b[39;49mloop, func, \u001b[39m*\u001b[39;49margs, \u001b[39m*\u001b[39;49m\u001b[39m*\u001b[39;49mkwargs)\n",
      "File \u001b[0;32m~/.miniconda3/envs/hackathon/lib/python3.9/site-packages/fsspec/asyn.py:84\u001b[0m, in \u001b[0;36msync\u001b[0;34m(loop, func, timeout, *args, **kwargs)\u001b[0m\n\u001b[1;32m     81\u001b[0m asyncio\u001b[39m.\u001b[39mrun_coroutine_threadsafe(_runner(event, coro, result, timeout), loop)\n\u001b[1;32m     82\u001b[0m \u001b[39mwhile\u001b[39;00m \u001b[39mTrue\u001b[39;00m:\n\u001b[1;32m     83\u001b[0m     \u001b[39m# this loops allows thread to get interrupted\u001b[39;00m\n\u001b[0;32m---> 84\u001b[0m     \u001b[39mif\u001b[39;00m event\u001b[39m.\u001b[39;49mwait(\u001b[39m1\u001b[39;49m):\n\u001b[1;32m     85\u001b[0m         \u001b[39mbreak\u001b[39;00m\n\u001b[1;32m     86\u001b[0m     \u001b[39mif\u001b[39;00m timeout \u001b[39mis\u001b[39;00m \u001b[39mnot\u001b[39;00m \u001b[39mNone\u001b[39;00m:\n",
      "File \u001b[0;32m~/.miniconda3/envs/hackathon/lib/python3.9/threading.py:581\u001b[0m, in \u001b[0;36mEvent.wait\u001b[0;34m(self, timeout)\u001b[0m\n\u001b[1;32m    579\u001b[0m signaled \u001b[39m=\u001b[39m \u001b[39mself\u001b[39m\u001b[39m.\u001b[39m_flag\n\u001b[1;32m    580\u001b[0m \u001b[39mif\u001b[39;00m \u001b[39mnot\u001b[39;00m signaled:\n\u001b[0;32m--> 581\u001b[0m     signaled \u001b[39m=\u001b[39m \u001b[39mself\u001b[39;49m\u001b[39m.\u001b[39;49m_cond\u001b[39m.\u001b[39;49mwait(timeout)\n\u001b[1;32m    582\u001b[0m \u001b[39mreturn\u001b[39;00m signaled\n",
      "File \u001b[0;32m~/.miniconda3/envs/hackathon/lib/python3.9/threading.py:316\u001b[0m, in \u001b[0;36mCondition.wait\u001b[0;34m(self, timeout)\u001b[0m\n\u001b[1;32m    314\u001b[0m \u001b[39melse\u001b[39;00m:\n\u001b[1;32m    315\u001b[0m     \u001b[39mif\u001b[39;00m timeout \u001b[39m>\u001b[39m \u001b[39m0\u001b[39m:\n\u001b[0;32m--> 316\u001b[0m         gotit \u001b[39m=\u001b[39m waiter\u001b[39m.\u001b[39;49macquire(\u001b[39mTrue\u001b[39;49;00m, timeout)\n\u001b[1;32m    317\u001b[0m     \u001b[39melse\u001b[39;00m:\n\u001b[1;32m    318\u001b[0m         gotit \u001b[39m=\u001b[39m waiter\u001b[39m.\u001b[39macquire(\u001b[39mFalse\u001b[39;00m)\n",
      "\u001b[0;31mKeyboardInterrupt\u001b[0m: "
     ]
    }
   ],
   "source": [
    "\n",
    "from tqdm.auto import tqdm  # progress bar\n",
    "\n",
    "total_doc_count = 50000\n",
    "\n",
    "counter = 0\n",
    "docs = []\n",
    "# iterate through the dataset and apply our filter\n",
    "for d in tqdm(history, total=total_doc_count):\n",
    "    # extract the fields we need\n",
    "    doc = {\n",
    "        \"article_title\": d[\"article_title\"],\n",
    "        \"section_title\": d[\"section_title\"],\n",
    "        \"passage_text\": d[\"passage_text\"]\n",
    "    }\n",
    "    # add the dict containing fields we need to docs list\n",
    "    docs.append(doc)\n",
    "\n",
    "    # stop iteration once we reach 50k\n",
    "    if counter == total_doc_count:\n",
    "        break\n",
    "\n",
    "    # increase the counter on every iteration\n",
    "    counter += 1\n"
   ]
  },
  {
   "cell_type": "code",
   "execution_count": null,
   "metadata": {},
   "outputs": [],
   "source": [
    "\n",
    "import pandas as pd\n",
    "\n",
    "# create a pandas dataframe with the documents we extracted\n",
    "df = pd.DataFrame(docs)\n",
    "df.head()"
   ]
  },
  {
   "cell_type": "code",
   "execution_count": null,
   "metadata": {},
   "outputs": [],
   "source": [
    "\n",
    "import pinecone\n",
    "\n",
    "# connect to pinecone environment\n",
    "pinecone.init(\n",
    "    api_key=\"442d1d81-beba-41f7-8510-f732c8fff44c\",\n",
    "    environment=\"us-west1-gcp\"\n",
    ")"
   ]
  },
  {
   "cell_type": "code",
   "execution_count": null,
   "metadata": {},
   "outputs": [],
   "source": [
    "\n",
    "index_name = \"abstractive-question-answering\"\n",
    "\n",
    "# check if the abstractive-question-answering index exists\n",
    "if index_name not in pinecone.list_indexes():\n",
    "    # create the index if it does not exist\n",
    "    pinecone.create_index(\n",
    "        index_name,\n",
    "        dimension=768,\n",
    "        metric=\"cosine\"\n",
    "    )\n",
    "\n",
    "# connect to abstractive-question-answering index we created\n",
    "index = pinecone.Index(index_name)"
   ]
  },
  {
   "cell_type": "code",
   "execution_count": null,
   "metadata": {},
   "outputs": [],
   "source": [
    "\n",
    "from sentence_transformers import SentenceTransformer\n",
    "\n",
    "# load the retriever model from huggingface model hub\n",
    "retriever = SentenceTransformer(\"flax-sentence-embeddings/all_datasets_v3_mpnet-base\")\n",
    "retriever"
   ]
  }
 ],
 "metadata": {
  "kernelspec": {
   "display_name": "Python [conda env:hackathon]",
   "language": "python",
   "name": "conda-env-hackathon-py"
  },
  "language_info": {
   "codemirror_mode": {
    "name": "ipython",
    "version": 3
   },
   "file_extension": ".py",
   "mimetype": "text/x-python",
   "name": "python",
   "nbconvert_exporter": "python",
   "pygments_lexer": "ipython3",
   "version": "3.9.13"
  },
  "vscode": {
   "interpreter": {
    "hash": "9de89fd9b00c0d9938d74636bda9d8749cea044c4a50df9ee236df98ebfcbf20"
   }
  }
 },
 "nbformat": 4,
 "nbformat_minor": 2
}
