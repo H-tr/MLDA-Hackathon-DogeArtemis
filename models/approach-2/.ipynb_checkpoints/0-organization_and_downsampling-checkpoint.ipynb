{
 "cells": [
  {
   "cell_type": "code",
   "execution_count": 1,
   "id": "82e162f9",
   "metadata": {},
   "outputs": [
    {
     "name": "stderr",
     "output_type": "stream",
     "text": [
      "/Users/yijisuk/opt/anaconda3/envs/pytorch/lib/python3.9/site-packages/tqdm/auto.py:22: TqdmWarning: IProgress not found. Please update jupyter and ipywidgets. See https://ipywidgets.readthedocs.io/en/stable/user_install.html\n",
      "  from .autonotebook import tqdm as notebook_tqdm\n"
     ]
    }
   ],
   "source": [
    "import os, glob, shutil\n",
    "import numpy as np\n",
    "import pandas as pd\n",
    "import torch\n",
    "import torchaudio\n",
    "\n",
    "PATH = \"/Users/yijisuk/Documents/MAIN DRIVE/Local Development/audio-sentiment-analysis\"\n",
    "DATA_PATH = os.path.join(PATH, 'dataset')\n",
    "NEW_DATA_PATH = os.path.join(PATH, 'categorized_dataset')"
   ]
  },
  {
   "cell_type": "code",
   "execution_count": 23,
   "id": "64c5bdec",
   "metadata": {},
   "outputs": [],
   "source": [
    "audio_filepaths = [filename for filename in glob.glob(os.path.join(DATA_PATH, '*.wav'))]\n",
    "audio_filenames = [filepath.split('/')[-1] for filepath in audio_filepaths]\n",
    "\n",
    "emotion_categories = np.unique([filename.split('.')[0].split('_')[-1] for filename in audio_filenames])\n",
    "\n",
    "\n",
    "nofear_audio_filenames = [filename for filename in audio_filenames if filename.split('/')[-1].split('.')[0].split('_')[-1] != 'fear']\n",
    "nofear_audio_filepaths_dict = {key: [] for key in emotion_categories if key != 'fear'}\n",
    "nofear_audio_filepaths = [os.path.join(DATA_PATH, filename) for filename in nofear_audio_filenames]\n",
    "\n",
    "for filepath in nofear_audio_filepaths:\n",
    "    emotion = filepath.split('/')[-1].split('.')[0].split('_')[-1]\n",
    "    nofear_audio_filepaths_dict[emotion].append(filepath)\n",
    "\n",
    "for key in emotion_filepaths_dict:\n",
    "    try:\n",
    "        os.mkdir(emotion_filepaths_dict[key])\n",
    "    except FileExistsError:\n",
    "        continue\n",
    "\n",
    "for key in nofear_audio_filepaths_dict:\n",
    "    paths = nofear_audio_filepaths_dict[key]\n",
    "    for path in paths:\n",
    "        shutil.copy(path, emotion_filepaths_dict[key])"
   ]
  },
  {
   "cell_type": "code",
   "execution_count": 30,
   "id": "7aec00a4",
   "metadata": {},
   "outputs": [],
   "source": [
    "annot_file = pd.DataFrame(columns=['filename', 'label'])\n",
    "annot_file['filename'] = nofear_audio_filenames\n",
    "\n",
    "string_labels = [name.split('/')[-1].split('.')[0].split('_')[-1] for name in nofear_audio_filenames]\n",
    "sl_unique = set(string_labels)\n",
    "encoded_labels = {key: value for key, value in zip(sl_unique, range(len(sl_unique)))}\n",
    "annot_file['label'] = [encoded_labels[label] for label in string_labels]"
   ]
  },
  {
   "cell_type": "code",
   "execution_count": 31,
   "id": "a17c299a",
   "metadata": {},
   "outputs": [
    {
     "data": {
      "text/html": [
       "<div>\n",
       "<style scoped>\n",
       "    .dataframe tbody tr th:only-of-type {\n",
       "        vertical-align: middle;\n",
       "    }\n",
       "\n",
       "    .dataframe tbody tr th {\n",
       "        vertical-align: top;\n",
       "    }\n",
       "\n",
       "    .dataframe thead th {\n",
       "        text-align: right;\n",
       "    }\n",
       "</style>\n",
       "<table border=\"1\" class=\"dataframe\">\n",
       "  <thead>\n",
       "    <tr style=\"text-align: right;\">\n",
       "      <th></th>\n",
       "      <th>filename</th>\n",
       "      <th>label</th>\n",
       "    </tr>\n",
       "  </thead>\n",
       "  <tbody>\n",
       "    <tr>\n",
       "      <th>0</th>\n",
       "      <td>YAF_wire_happy.wav</td>\n",
       "      <td>4</td>\n",
       "    </tr>\n",
       "    <tr>\n",
       "      <th>1</th>\n",
       "      <td>OAF_fat_disgust.wav</td>\n",
       "      <td>3</td>\n",
       "    </tr>\n",
       "    <tr>\n",
       "      <th>2</th>\n",
       "      <td>OAF_bought_happy.wav</td>\n",
       "      <td>4</td>\n",
       "    </tr>\n",
       "    <tr>\n",
       "      <th>3</th>\n",
       "      <td>OAF_fit_neutral.wav</td>\n",
       "      <td>0</td>\n",
       "    </tr>\n",
       "    <tr>\n",
       "      <th>4</th>\n",
       "      <td>OAF_join_neutral.wav</td>\n",
       "      <td>0</td>\n",
       "    </tr>\n",
       "  </tbody>\n",
       "</table>\n",
       "</div>"
      ],
      "text/plain": [
       "               filename  label\n",
       "0    YAF_wire_happy.wav      4\n",
       "1   OAF_fat_disgust.wav      3\n",
       "2  OAF_bought_happy.wav      4\n",
       "3   OAF_fit_neutral.wav      0\n",
       "4  OAF_join_neutral.wav      0"
      ]
     },
     "execution_count": 31,
     "metadata": {},
     "output_type": "execute_result"
    }
   ],
   "source": [
    "annot_file.head()"
   ]
  },
  {
   "cell_type": "code",
   "execution_count": 32,
   "id": "59c76e9c",
   "metadata": {},
   "outputs": [],
   "source": [
    "ANNOT_FILE_PATH = os.path.join(NEW_DATA_PATH, 'annot_file.csv')\n",
    "annot_file.to_csv(ANNOT_FILE_PATH, index=False)"
   ]
  },
  {
   "cell_type": "code",
   "execution_count": null,
   "id": "35875719",
   "metadata": {},
   "outputs": [],
   "source": []
  }
 ],
 "metadata": {
  "kernelspec": {
   "display_name": "Python 3 (ipykernel)",
   "language": "python",
   "name": "python3"
  },
  "language_info": {
   "codemirror_mode": {
    "name": "ipython",
    "version": 3
   },
   "file_extension": ".py",
   "mimetype": "text/x-python",
   "name": "python",
   "nbconvert_exporter": "python",
   "pygments_lexer": "ipython3",
   "version": "3.9.13"
  }
 },
 "nbformat": 4,
 "nbformat_minor": 5
}
