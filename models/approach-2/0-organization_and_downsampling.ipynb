{
 "cells": [
  {
   "cell_type": "code",
   "execution_count": 13,
   "id": "82e162f9",
   "metadata": {},
   "outputs": [],
   "source": [
    "import os, glob, shutil\n",
    "import numpy as np\n",
    "import pandas as pd\n",
    "import torch\n",
    "import torchaudio\n",
    "\n",
    "PATH = \"/Users/yijisuk/Documents/MAIN DRIVE/Local Development/audio-sentiment-analysis\"\n",
    "DATA_PATH = os.path.join(PATH, 'dataset')\n",
    "NEW_DATA_PATH = os.path.join(PATH, 'approach-2', 'categorized_dataset')"
   ]
  },
  {
   "cell_type": "code",
   "execution_count": 14,
   "id": "ba0add49",
   "metadata": {},
   "outputs": [],
   "source": [
    "audio_filepaths = [filename for filename in glob.glob(os.path.join(DATA_PATH, '*.wav'))]\n",
    "audio_filenames = [filepath.split('/')[-1] for filepath in audio_filepaths]\n",
    "\n",
    "emotion_categories = list(np.unique([filename.split('.')[0].split('_')[-1] for filename in audio_filenames]))\n",
    "emotion_categories.remove('fear')\n",
    "\n",
    "sentiment_categories = ['positive', 'neutral', 'negative']\n",
    "\n",
    "nofear_audio_filenames = [filename for filename in audio_filenames if filename.split('/')[-1].split('.')[0].split('_')[-1] != 'fear']\n",
    "nofear_audio_filepaths_dict = {key: [] for key in sentiment_categories}\n",
    "nofear_audio_filepaths = [os.path.join(DATA_PATH, filename) for filename in nofear_audio_filenames]"
   ]
  },
  {
   "cell_type": "code",
   "execution_count": 15,
   "id": "0eda199e",
   "metadata": {},
   "outputs": [
    {
     "data": {
      "text/plain": [
       "['angry', 'disgust', 'happy', 'neutral', 'ps', 'sad']"
      ]
     },
     "execution_count": 15,
     "metadata": {},
     "output_type": "execute_result"
    }
   ],
   "source": [
    "emotion_categories"
   ]
  },
  {
   "cell_type": "code",
   "execution_count": 17,
   "id": "64c5bdec",
   "metadata": {},
   "outputs": [],
   "source": [
    "for filepath in nofear_audio_filepaths:\n",
    "    emotion = filepath.split('/')[-1].split('.')[0].split('_')[-1]\n",
    "    \n",
    "    if emotion in ['happy', 'ps']:\n",
    "        nofear_audio_filepaths_dict['positive'].append(filepath)\n",
    "    elif emotion == 'neutral':\n",
    "        nofear_audio_filepaths_dict['neutral'].append(filepath)\n",
    "    else:\n",
    "        nofear_audio_filepaths_dict['negative'].append(filepath)\n",
    "\n",
    "for key in sentiment_categories:\n",
    "    try:\n",
    "        os.mkdir(os.path.join(NEW_DATA_PATH, key))\n",
    "    except FileExistsError:\n",
    "        continue\n",
    "\n",
    "for key in nofear_audio_filepaths_dict:\n",
    "    paths = nofear_audio_filepaths_dict[key]\n",
    "    for path in paths:\n",
    "        shutil.copy(path, os.path.join(NEW_DATA_PATH, key))"
   ]
  },
  {
   "cell_type": "code",
   "execution_count": 25,
   "id": "7aec00a4",
   "metadata": {},
   "outputs": [],
   "source": [
    "annot_file = pd.DataFrame(columns=['filename', 'label'])\n",
    "annot_file['filename'] = nofear_audio_filenames\n",
    "\n",
    "string_labels = [name.split('/')[-1].split('.')[0].split('_')[-1] for name in nofear_audio_filenames]\n",
    "al_cat = {'positive': 0, 'neutral': 1, 'negative': 2}\n",
    "\n",
    "annot_labels = []\n",
    "for label in string_labels:\n",
    "    if label in ['happy', 'ps']:\n",
    "        annot_labels.append(al_cat['positive'])\n",
    "    elif label == 'neutral':\n",
    "        annot_labels.append(al_cat['neutral'])\n",
    "    else:\n",
    "        annot_labels.append(al_cat['negative'])\n",
    "\n",
    "annot_file['label'] = annot_labels"
   ]
  },
  {
   "cell_type": "code",
   "execution_count": 26,
   "id": "a17c299a",
   "metadata": {},
   "outputs": [
    {
     "data": {
      "text/html": [
       "<div>\n",
       "<style scoped>\n",
       "    .dataframe tbody tr th:only-of-type {\n",
       "        vertical-align: middle;\n",
       "    }\n",
       "\n",
       "    .dataframe tbody tr th {\n",
       "        vertical-align: top;\n",
       "    }\n",
       "\n",
       "    .dataframe thead th {\n",
       "        text-align: right;\n",
       "    }\n",
       "</style>\n",
       "<table border=\"1\" class=\"dataframe\">\n",
       "  <thead>\n",
       "    <tr style=\"text-align: right;\">\n",
       "      <th></th>\n",
       "      <th>filename</th>\n",
       "      <th>label</th>\n",
       "    </tr>\n",
       "  </thead>\n",
       "  <tbody>\n",
       "    <tr>\n",
       "      <th>0</th>\n",
       "      <td>YAF_wire_happy.wav</td>\n",
       "      <td>0</td>\n",
       "    </tr>\n",
       "    <tr>\n",
       "      <th>1</th>\n",
       "      <td>OAF_fat_disgust.wav</td>\n",
       "      <td>2</td>\n",
       "    </tr>\n",
       "    <tr>\n",
       "      <th>2</th>\n",
       "      <td>OAF_bought_happy.wav</td>\n",
       "      <td>0</td>\n",
       "    </tr>\n",
       "    <tr>\n",
       "      <th>3</th>\n",
       "      <td>OAF_fit_neutral.wav</td>\n",
       "      <td>1</td>\n",
       "    </tr>\n",
       "    <tr>\n",
       "      <th>4</th>\n",
       "      <td>OAF_join_neutral.wav</td>\n",
       "      <td>1</td>\n",
       "    </tr>\n",
       "  </tbody>\n",
       "</table>\n",
       "</div>"
      ],
      "text/plain": [
       "               filename  label\n",
       "0    YAF_wire_happy.wav      0\n",
       "1   OAF_fat_disgust.wav      2\n",
       "2  OAF_bought_happy.wav      0\n",
       "3   OAF_fit_neutral.wav      1\n",
       "4  OAF_join_neutral.wav      1"
      ]
     },
     "execution_count": 26,
     "metadata": {},
     "output_type": "execute_result"
    }
   ],
   "source": [
    "annot_file.head()"
   ]
  },
  {
   "cell_type": "code",
   "execution_count": 27,
   "id": "59c76e9c",
   "metadata": {},
   "outputs": [],
   "source": [
    "ANNOT_FILE_PATH = os.path.join(NEW_DATA_PATH, 'annot_file.csv')\n",
    "annot_file.to_csv(ANNOT_FILE_PATH, index=False)"
   ]
  },
  {
   "cell_type": "code",
   "execution_count": null,
   "id": "35875719",
   "metadata": {},
   "outputs": [],
   "source": []
  }
 ],
 "metadata": {
  "kernelspec": {
   "display_name": "Python 3 (ipykernel)",
   "language": "python",
   "name": "python3"
  },
  "language_info": {
   "codemirror_mode": {
    "name": "ipython",
    "version": 3
   },
   "file_extension": ".py",
   "mimetype": "text/x-python",
   "name": "python",
   "nbconvert_exporter": "python",
   "pygments_lexer": "ipython3",
   "version": "3.9.13"
  }
 },
 "nbformat": 4,
 "nbformat_minor": 5
}
